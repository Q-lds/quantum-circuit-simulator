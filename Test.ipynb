{
 "cells": [
  {
   "cell_type": "code",
   "execution_count": 1,
   "metadata": {},
   "outputs": [],
   "source": [
    "%load_ext autoreload\n",
    "%autoreload 2"
   ]
  },
  {
   "cell_type": "code",
   "execution_count": 2,
   "metadata": {},
   "outputs": [],
   "source": [
    "from qcircuit.quantumcircuit import QuantumCircuit\n",
    "from qcircuit.quantumregister import QuantumRegister\n",
    "from qcircuit.classicalregister import ClassicalRegister\n",
    "from qcircuit.gates import gates\n",
    "\n",
    "import matplotlib.pyplot as plt\n",
    "import numpy as np\n",
    "%matplotlib inline"
   ]
  },
  {
   "cell_type": "markdown",
   "metadata": {},
   "source": [
    "# Tests"
   ]
  },
  {
   "cell_type": "markdown",
   "metadata": {},
   "source": [
    "## Check that the circuits are correctly initialized"
   ]
  },
  {
   "cell_type": "code",
   "execution_count": 3,
   "metadata": {},
   "outputs": [
    {
     "name": "stdout",
     "output_type": "stream",
     "text": [
      "Quantum register initialized the state |00> :  [(1+0j), 0j, 0j, 0j]\n",
      "Classical register initialized in the state 00 [0.0, 0.0]\n"
     ]
    }
   ],
   "source": [
    "qc = QuantumCircuit(QuantumRegister(2), ClassicalRegister(2))\n",
    "\n",
    "#### assertions ####s\n",
    "assert qc.quantumRegister.amplitudes.all() == np.complex128([(1+0j), (0+0j), (0+0j), (0+0j)]).all()\n",
    "assert qc.classicalRegister.values.all() == np.array([0,0]).all()\n",
    "print('Quantum register initialized the state |00> : ',qc.quantumRegister.formatAmplitudes())\n",
    "print('Classical register initialized in the state 00', qc.classicalRegister.formatValues())"
   ]
  },
  {
   "cell_type": "markdown",
   "metadata": {},
   "source": [
    "## There are two ways of applying gates\n",
    "    *Sequentially* :\n",
    "        - Initialize the quantum and classical register\n",
    "        - Apply sequentially the gates\n",
    "        - Measure at the end, if we want a classical outcome\n",
    "    n this case, each time a gate is applyed by (e.g. by the fuction `applySingleGate`)\n",
    "    *All at once*\n",
    "        - Initialize the quantum and classical register\n",
    "        - Specify an array of tuples such as [('H', 1), ('Cnot', (1,2)), ('X', 2), ('Z', 1)]]\n",
    "        - Apply the overall matrix on the quantumRegister by invoking `applyMultipleGatesAtOnce`\n",
    "        - Measure the state at the end, if wishes\n",
    "    In this case, each individual gate set is generated as a sparse matrix, and all the matrix multiplications are done over sparse matrices.\n",
    "    \n",
    "    Using the second method, is less resource-intensive as only the final matrix is densed. "
   ]
  },
  {
   "cell_type": "markdown",
   "metadata": {},
   "source": [
    "### The first test is generating the bell states using the sequential model\n",
    "    |Phi^+> = (H1 \\otimes Cnot(1,2))|00> \n",
    "    |Phi^-> = (H1 \\otimes Cnot(1,2)Z2) |00>\n",
    "    |Psi^+> = (H1 \\otimes Cnot(1,2)X2) |00>\n",
    "    |Psi^-> = (H1 \\otimes Cnot(1,2)X2 Z1) |00>"
   ]
  },
  {
   "cell_type": "code",
   "execution_count": 4,
   "metadata": {},
   "outputs": [
    {
     "name": "stdout",
     "output_type": "stream",
     "text": [
      "Apply H_1, getting  [array([0.7071+0.j, 0.    +0.j, 0.7071+0.j, 0.    +0.j])]\n",
      "Amplitudeds of |Phi^+> are  [array([0.7071+0.j, 0.    +0.j, 0.    +0.j, 0.7071+0.j])]\n"
     ]
    },
    {
     "data": {
      "image/png": "[encoded data removed]",
      "text/plain": [
       "<Figure size 432x288 with 1 Axes>"
      ]
     },
     "metadata": {
      "needs_background": "light"
     },
     "output_type": "display_data"
    }
   ],
   "source": [
    "qc = QuantumCircuit(QuantumRegister(2), ClassicalRegister(2)) # Create th register\n",
    "qc.setName('|Phi^+>')\n",
    "qc.quantumRegister.applySingleGate('H', 1) # Apply H on qubit 1\n",
    "print('Apply H_1, getting ', qc.quantumRegister.formatAmplitudes()) # Read out the amplitudes\n",
    "qc.quantumRegister.applyCnotGate(1,2) # Apply a Cnot between qubit 1 and qubit 2\n",
    "print('Amplitudeds of |Phi^+> are ', qc.quantumRegister.formatAmplitudes()) # Read out the amplitudes\n",
    "qc.readOut('classical') # Perform the measurements, and store the values in the classical register\n",
    "\n",
    "\"\"\"\n",
    "Note that now qc.classicalRegister.values holds the result for a single measurement;\n",
    "In order to check the statistics we can use the `qc.generateStatistics` method which calls readOut over the\n",
    "fixed number of measurements `n_measurements`\n",
    "\"\"\"\n",
    "\n",
    "qc.plotResults(stats=qc.generateStatistics(n_measurements=1000)) #This simply plots the results\n",
    "plt.show()"
   ]
  },
  {
   "cell_type": "code",
   "execution_count": 5,
   "metadata": {},
   "outputs": [
    {
     "name": "stdout",
     "output_type": "stream",
     "text": [
      "Amplitudeds of |Phi^-> are  [array([ 0.7071+0.j,  0.    +0.j,  0.    +0.j, -0.7071+0.j])]\n"
     ]
    },
    {
     "data": {
      "image/png": "[encoded data removed]",
      "text/plain": [
       "<Figure size 432x288 with 1 Axes>"
      ]
     },
     "metadata": {
      "needs_background": "light"
     },
     "output_type": "display_data"
    }
   ],
   "source": [
    "qc = QuantumCircuit(QuantumRegister(2), ClassicalRegister(2))\n",
    "qc.setName('|Phi^->')\n",
    "qc.quantumRegister.applySingleGate('H', 1)\n",
    "qc.quantumRegister.applyCnotGate(1,2)\n",
    "qc.quantumRegister.applySingleGate('Z', 2)\n",
    "print('Amplitudeds of |Phi^-> are ', qc.quantumRegister.formatAmplitudes())\n",
    "qc.readOut('classical')\n",
    "qc.plotResults(stats=qc.generateStatistics(n_measurements=1000))\n",
    "plt.show()"
   ]
  },
  {
   "cell_type": "code",
   "execution_count": 6,
   "metadata": {},
   "outputs": [
    {
     "name": "stdout",
     "output_type": "stream",
     "text": [
      "Amplitudeds of |Psi^+> are  [array([0.    +0.j, 0.7071+0.j, 0.7071+0.j, 0.    +0.j])]\n"
     ]
    },
    {
     "data": {
      "image/png": "[encoded data removed]",
      "text/plain": [
       "<Figure size 432x288 with 1 Axes>"
      ]
     },
     "metadata": {
      "needs_background": "light"
     },
     "output_type": "display_data"
    }
   ],
   "source": [
    "qc = QuantumCircuit(QuantumRegister(2), ClassicalRegister(2))\n",
    "qc.setName('|Psi^+>')\n",
    "qc.quantumRegister.applySingleGate('H', 1)\n",
    "qc.quantumRegister.applyCnotGate(1,2)\n",
    "qc.quantumRegister.applySingleGate('X', 2)\n",
    "print('Amplitudeds of |Psi^+> are ', qc.quantumRegister.formatAmplitudes())\n",
    "qc.readOut('classical')\n",
    "qc.plotResults(stats=qc.generateStatistics(n_measurements=1000))\n",
    "plt.show()"
   ]
  },
  {
   "cell_type": "code",
   "execution_count": 7,
   "metadata": {},
   "outputs": [
    {
     "name": "stdout",
     "output_type": "stream",
     "text": [
      "Amplitudeds of |Psi^-> are  [array([ 0.    +0.j,  0.7071+0.j, -0.7071+0.j,  0.    +0.j])]\n"
     ]
    },
    {
     "data": {
      "image/png": "[encoded data removed]",
      "text/plain": [
       "<Figure size 432x288 with 1 Axes>"
      ]
     },
     "metadata": {
      "needs_background": "light"
     },
     "output_type": "display_data"
    }
   ],
   "source": [
    "qc = QuantumCircuit(QuantumRegister(2), ClassicalRegister(2))\n",
    "qc.setName('|Psi^+>')\n",
    "qc.quantumRegister.applySingleGate('H', 1)\n",
    "qc.quantumRegister.applyCnotGate(1,2)\n",
    "qc.quantumRegister.applySingleGate('X', 2)\n",
    "qc.quantumRegister.applySingleGate('Z', 1)\n",
    "print('Amplitudeds of |Psi^-> are ', qc.quantumRegister.formatAmplitudes())\n",
    "qc.readOut('classical')\n",
    "qc.plotResults(stats=qc.generateStatistics(n_measurements=1000))\n",
    "plt.show()"
   ]
  },
  {
   "cell_type": "markdown",
   "metadata": {},
   "source": [
    "## Check that we obtain the same results with the allAtOnce model"
   ]
  },
  {
   "cell_type": "code",
   "execution_count": 8,
   "metadata": {},
   "outputs": [],
   "source": [
    "bell_gates = [[('H', 1), ('Cnot', (1,2))], \n",
    "               [('H', 1), ('Cnot', (1,2)), ('Z', 2)],\n",
    "               [('H', 1), ('Cnot', (1,2)), ('X', 2)],\n",
    "               [('H', 1), ('Cnot', (1,2)), ('X', 2), ('Z', 1)]]"
   ]
  },
  {
   "cell_type": "code",
   "execution_count": 9,
   "metadata": {
    "scrolled": false
   },
   "outputs": [
    {
     "name": "stdout",
     "output_type": "stream",
     "text": [
      "[array([0.7071+0.j, 0.    +0.j, 0.    +0.j, 0.7071+0.j])] [0.0, 0.0]\n"
     ]
    },
    {
     "data": {
      "image/png": "[encoded data removed]",
      "text/plain": [
       "<Figure size 432x288 with 1 Axes>"
      ]
     },
     "metadata": {
      "needs_background": "light"
     },
     "output_type": "display_data"
    },
    {
     "name": "stdout",
     "output_type": "stream",
     "text": [
      "[array([ 0.7071+0.j,  0.    +0.j,  0.    +0.j, -0.7071+0.j])] [0.0, 0.0]\n"
     ]
    },
    {
     "data": {
      "image/png": "[encoded data removed]",
      "text/plain": [
       "<Figure size 432x288 with 1 Axes>"
      ]
     },
     "metadata": {
      "needs_background": "light"
     },
     "output_type": "display_data"
    },
    {
     "name": "stdout",
     "output_type": "stream",
     "text": [
      "[array([0.    +0.j, 0.7071+0.j, 0.7071+0.j, 0.    +0.j])] [0.0, 0.0]\n"
     ]
    },
    {
     "data": {
      "image/png": "[encoded data removed]",
      "text/plain": [
       "<Figure size 432x288 with 1 Axes>"
      ]
     },
     "metadata": {
      "needs_background": "light"
     },
     "output_type": "display_data"
    },
    {
     "name": "stdout",
     "output_type": "stream",
     "text": [
      "[array([ 0.    +0.j,  0.7071+0.j, -0.7071+0.j,  0.    +0.j])] [0.0, 0.0]\n"
     ]
    },
    {
     "data": {
      "image/png": "[encoded data removed]",
      "text/plain": [
       "<Figure size 432x288 with 1 Axes>"
      ]
     },
     "metadata": {
      "needs_background": "light"
     },
     "output_type": "display_data"
    }
   ],
   "source": [
    "for gateSet in bell_gates:\n",
    "    qc = QuantumCircuit(QuantumRegister(2), ClassicalRegister(2))\n",
    "    qc.quantumRegister.applyMultipleGatesAtOnce(qc.classicalRegister, gate_instructions=gateSet) # Give directly the list of tuples\n",
    "    print(qc.quantumRegister.formatAmplitudes(), qc.classicalRegister.formatValues())\n",
    "    qc.readOut('classical')\n",
    "    qc.plotResults(stats=qc.generateStatistics(n_measurements=1000))\n",
    "    plt.show()"
   ]
  },
  {
   "cell_type": "markdown",
   "metadata": {},
   "source": [
    "The states are the same as in the sequential model and the results also look correct :)"
   ]
  },
  {
   "cell_type": "code",
   "execution_count": 10,
   "metadata": {},
   "outputs": [
    {
     "data": {
      "text/plain": [
       "True"
      ]
     },
     "execution_count": 10,
     "metadata": {},
     "output_type": "execute_result"
    }
   ],
   "source": [
    "'a' in ['a', 'b']"
   ]
  },
  {
   "cell_type": "markdown",
   "metadata": {},
   "source": [
    "## Test the classical control routine"
   ]
  },
  {
   "cell_type": "markdown",
   "metadata": {},
   "source": [
    "    Lets start with regsiters |00> and 00;\n",
    "    Apply a bit flip to the second classical bit, i.e. 00 ---> 01;\n",
    "    Apply then a classicaly controlled - X, from the second *bit* to the second qubit\n",
    "    Final quantum state is |01>"
   ]
  },
  {
   "cell_type": "code",
   "execution_count": 11,
   "metadata": {
    "scrolled": false
   },
   "outputs": [
    {
     "name": "stdout",
     "output_type": "stream",
     "text": [
      "Quantum register:  [(1+0j), 0j, 0j, 0j]\n",
      "Classical register: [0.0, 0.0]\n",
      "Cclassical register after the flip: [0.0, 1.0]\n",
      "Quantum register [array([0.+0.j, 1.+0.j, 0.+0.j, 0.+0.j])]\n"
     ]
    }
   ],
   "source": [
    "gateSet = [('classicalControl', (1,1), 'X')]\n",
    "qc = QuantumCircuit(QuantumRegister(2), ClassicalRegister(2))\n",
    "print('Quantum register: ', qc.quantumRegister.formatAmplitudes())\n",
    "print('Classical register:', qc.classicalRegister.formatValues())\n",
    "qc.classicalRegister.flip(1)\n",
    "print('Cclassical register after the flip:', qc.classicalRegister.formatValues())\n",
    "qc.quantumRegister.applyMultipleGatesAtOnce(qc.classicalRegister, gateSet) # Give directly the list of tuples\n",
    "print('Quantum register', qc.quantumRegister.formatAmplitudes())\n",
    "\n",
    "#### Assertion ####\n",
    "assert qc.quantumRegister.amplitudes.all() == np.complex128([(0+0j), (1+0j), (0+0j), (0+0j)]).all()"
   ]
  },
  {
   "cell_type": "markdown",
   "metadata": {},
   "source": [
    "# Test a large state"
   ]
  },
  {
   "cell_type": "code",
   "execution_count": 12,
   "metadata": {},
   "outputs": [],
   "source": [
    "hadamards = [('H', 0), ('H', 1), ('H', 2), ('H', 3), ('H', 4), ('H', 5)]\n",
    "Cz = [('H', 1),('cnot', (0,1)),('H', 1),\n",
    "      ('H', 2),('cnot', (1,2)),('H', 2),\n",
    "      ('H', 3),('cnot', (2,3)),('H', 3),\n",
    "      ('H', 4),('cnot', (3,4)),('H', 4),\n",
    "      ('H', 1),('cnot', (4,1)),('H', 1)]\n",
    "gateInstructions = hadamards+Cz"
   ]
  },
  {
   "cell_type": "code",
   "execution_count": 13,
   "metadata": {},
   "outputs": [
    {
     "name": "stdout",
     "output_type": "stream",
     "text": [
      "Quantum register [array([ 0.1768+0.j,  0.1768+0.j,  0.1768+0.j,  0.1768+0.j,  0.1768+0.j,\n",
      "        0.1768+0.j, -0.1768+0.j, -0.1768+0.j,  0.1768+0.j,  0.1768+0.j,\n",
      "        0.1768+0.j,  0.1768+0.j, -0.1768+0.j, -0.1768+0.j,  0.1768+0.j,\n",
      "        0.1768+0.j, -0.1768+0.j, -0.1768+0.j,  0.1768+0.j,  0.1768+0.j,\n",
      "       -0.1768+0.j, -0.1768+0.j, -0.1768+0.j, -0.1768+0.j,  0.1768+0.j,\n",
      "        0.1768+0.j, -0.1768+0.j, -0.1768+0.j, -0.1768+0.j, -0.1768+0.j,\n",
      "       -0.1768+0.j, -0.1768+0.j])]\n"
     ]
    }
   ],
   "source": [
    "qc = QuantumCircuit(QuantumRegister(5), ClassicalRegister(2))\n",
    "qc.quantumRegister.applyMultipleGatesAtOnce(qc.classicalRegister, gateInstructions) # Give directly the list of tuples\n",
    "print('Quantum register', qc.quantumRegister.formatAmplitudes())\n",
    "fiveQubitStabiizer = qc.quantumRegister.amplitudes"
   ]
  },
  {
   "cell_type": "code",
   "execution_count": 14,
   "metadata": {},
   "outputs": [
    {
     "name": "stdout",
     "output_type": "stream",
     "text": [
      "[('X', 0), ('Z', 4), ('Z', 2)]\n",
      "[('X', 1), ('Z', 2), ('Z', 0)]\n",
      "[('X', 2), ('Z', 3), ('Z', 1)]\n",
      "[('X', 3), ('Z', 4), ('Z', 2)]\n",
      "[('X', 4), ('Z', 0), ('Z', 3)]\n"
     ]
    }
   ],
   "source": [
    "stabilizers = [[('X', 0), ('Z', 4), ('Z',2)],\n",
    "               [('X', 1), ('Z', 2), ('Z',0)],\n",
    "               [('X', 2), ('Z', 3), ('Z',1)],\n",
    "               [('X', 3), ('Z', 4), ('Z',2)],\n",
    "               [('X', 4), ('Z', 0), ('Z',3)]]\n",
    "for stab in stabilizers:\n",
    "    print(stab)\n",
    "    qc.quantumRegister.applyMultipleGatesAtOnce(qc.classicalRegister, stab) # Give directly the list of tuples\n",
    "    assert qc.quantumRegister.amplitudes.all() == fiveQubitStabiizer.all()"
   ]
  },
  {
   "cell_type": "markdown",
   "metadata": {},
   "source": [
    "As expected, the stabilizers do not change the state of the system :)"
   ]
  },
  {
   "cell_type": "markdown",
   "metadata": {},
   "source": [
    "# Benchmark whith large ensambles"
   ]
  },
  {
   "cell_type": "code",
   "execution_count": 15,
   "metadata": {},
   "outputs": [
    {
     "name": "stdout",
     "output_type": "stream",
     "text": [
      "11.7 ms ± 1.18 ms per loop (mean ± std. dev. of 7 runs, 100 loops each)\n"
     ]
    }
   ],
   "source": [
    "%%timeit\n",
    "hadamards = [('H', 0), ('H', 1), ('H', 2), ('H', 3), ('H', 4), ('H', 5)]\n",
    "Cz = [('H', 1),('cnot', (0,1)),('H', 1),\n",
    "      ('H', 2),('cnot', (1,2)),('H', 2),\n",
    "      ('H', 3),('cnot', (2,3)),('H', 3),\n",
    "      ('H', 4),('cnot', (3,4)),('H', 4),\n",
    "      ('H', 1),('cnot', (4,1)),('H', 1)]\n",
    "gateInstructions = hadamards+Cz\n",
    "qc = QuantumCircuit(QuantumRegister(5), ClassicalRegister(2))\n",
    "qc.quantumRegister.applyMultipleGatesAtOnce(qc.classicalRegister, gateInstructions) # Give directly the list of tuples\n",
    "fiveQubitStabiizer = qc.quantumRegister.amplitudes"
   ]
  },
  {
   "cell_type": "code",
   "execution_count": 16,
   "metadata": {},
   "outputs": [
    {
     "name": "stdout",
     "output_type": "stream",
     "text": [
      "3.79 s ± 373 ms per loop (mean ± std. dev. of 7 runs, 1 loop each)\n"
     ]
    }
   ],
   "source": [
    "%%timeit\n",
    "hadamards = [('H', 0), ('H', 1), ('H', 2), ('H', 3), ('H', 4), ('H', 5)]\n",
    "Cz = [('H', 1),('cnot', (0,1)),('H', 1),\n",
    "      ('H', 2),('cnot', (1,2)),('H', 2),\n",
    "      ('H', 3),('cnot', (2,3)),('H', 3),\n",
    "      ('H', 4),('cnot', (3,4)),('H', 4),\n",
    "      ('H', 1),('cnot', (4,1)),('H', 1),\n",
    "      ('H', 1),('cnot', (0,9)),('H', 1),\n",
    "      ('H', 2),('cnot', (1,8)),('H', 2),\n",
    "      ('H', 3),('cnot', (2,7)),('H', 3),\n",
    "      ('H', 4),('cnot', (3,6)),('H', 4),\n",
    "      ('H', 1),('cnot', (4,5)),('H', 1)]\n",
    "gateInstructions = hadamards+Cz\n",
    "qc = QuantumCircuit(QuantumRegister(10), ClassicalRegister(2))\n",
    "qc.quantumRegister.applyMultipleGatesAtOnce(qc.classicalRegister, gateInstructions) # Give directly the list of tuples\n",
    "fiveQubitStabiizer = qc.quantumRegister.amplitudes"
   ]
  },
  {
   "cell_type": "code",
   "execution_count": 17,
   "metadata": {},
   "outputs": [
    {
     "name": "stdout",
     "output_type": "stream",
     "text": [
      "17.7 s ± 1.91 s per loop (mean ± std. dev. of 7 runs, 1 loop each)\n"
     ]
    }
   ],
   "source": [
    "%%timeit\n",
    "hadamards = [('H', 0), ('H', 1), ('H', 2), ('H', 3), ('H', 4), ('H', 5)]\n",
    "Cz = [('H', 1),('cnot', (0,1)),('H', 1),\n",
    "      ('H', 2),('cnot', (1,2)),('H', 2),\n",
    "      ('H', 3),('cnot', (2,3)),('H', 3),\n",
    "      ('H', 4),('cnot', (3,4)),('H', 4),\n",
    "      ('H', 1),('cnot', (4,1)),('H', 1),\n",
    "      ('H', 1),('cnot', (0,9)),('H', 1),\n",
    "      ('H', 2),('cnot', (1,8)),('H', 2),\n",
    "      ('H', 3),('cnot', (2,7)),('H', 3),\n",
    "      ('H', 4),('cnot', (3,6)),('H', 4),\n",
    "      ('H', 1),('cnot', (4,5)),('H', 1),\n",
    "      ('H', 1),('cnot', (0,10)),('H', 1),\n",
    "#       ('H', 2),('cnot', (1,11)),('H', 2),\n",
    "#       ('H', 3),('cnot', (2,12)),('H', 3),\n",
    "#       ('H', 4),('cnot', (3,13)),('H', 4),\n",
    "#       ('H', 1),('cnot', (4,14)),('H', 1)\n",
    "     ]\n",
    "gateInstructions = hadamards+Cz\n",
    "qc = QuantumCircuit(QuantumRegister(11), ClassicalRegister(1))\n",
    "qc.quantumRegister.applyMultipleGatesAtOnce(qc.classicalRegister, gateInstructions) # Give directly the list of tuples\n",
    "fiveQubitStabiizer = qc.quantumRegister.amplitudes"
   ]
  }
 ],
 "metadata": {
  "kernelspec": {
   "display_name": "quantum",
   "language": "python",
   "name": "quantum"
  },
  "language_info": {
   "codemirror_mode": {
    "name": "ipython",
    "version": 3
   },
   "file_extension": ".py",
   "mimetype": "text/x-python",
   "name": "python",
   "nbconvert_exporter": "python",
   "pygments_lexer": "ipython3",
   "version": "3.7.5"
  }
 },
 "nbformat": 4,
 "nbformat_minor": 2
}
